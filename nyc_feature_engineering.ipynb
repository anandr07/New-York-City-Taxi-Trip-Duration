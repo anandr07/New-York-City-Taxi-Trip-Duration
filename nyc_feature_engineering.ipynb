{
 "cells": [
  {
   "cell_type": "code",
   "execution_count": 4,
   "id": "4a1a01f8",
   "metadata": {},
   "outputs": [],
   "source": [
    "import pandas as pd\n",
    "import numpy as np\n",
    "import matplotlib.pyplot as plt\n",
    "from datetime import datetime\n",
    "import seaborn as sns"
   ]
  },
  {
   "cell_type": "markdown",
   "id": "aa35ba8a",
   "metadata": {},
   "source": [
    "Haversine distance is primarily used to calculate the distance between two points on the surface of a sphere. such as measuring distance between two locations on the earth\n"
   ]
  },
  {
   "cell_type": "code",
   "execution_count": 49,
   "id": "97910466",
   "metadata": {},
   "outputs": [],
   "source": [
    "def haversine_distance(df, lat1, lat2, long1, long2):\n",
    "    \n",
    "    r = 6371 #average radius of earth in kilometers\n",
    "    \n",
    "    phi1 = np.radians(df[lat1])\n",
    "    \n",
    "    phi2 = np.radians(df[lat2])\n",
    "    \n",
    "    delta_phi = np.radians(df[lat2] - df[lat1])\n",
    "    \n",
    "    delta_lambda = np.radians(df[long2] - df[long1])\n",
    "    \n",
    "    a = np.sin(delta_phi/2) ** 2 + np.cos(phi1) * np.cos(phi2) * np.sin(delta_lambda/2)**2\n",
    "    \n",
    "    c = 2 * np.arctan2(np.sqrt(a), np.sqrt(1-a))\n",
    "    \n",
    "    d = r * c\n",
    "    \n",
    "    return d\n",
    "    \n",
    "    \n",
    "    "
   ]
  },
  {
   "cell_type": "markdown",
   "id": "a3b847da",
   "metadata": {},
   "source": [
    "Manhattan distance(L1 norm or taxicab distance) - It is often used in machine learning especially in clustering algorithms or when measuring distance in grid like structures such as a chessboard.for ex given two points (x1, y1) and (x2, y2) the manhattan distance is |x2-x1| + |y2-y1|"
   ]
  },
  {
   "cell_type": "code",
   "execution_count": 62,
   "id": "5cd3d7bf",
   "metadata": {},
   "outputs": [],
   "source": [
    "def dummy_manhattan_distance(df, lat1, long1, lat2, long2):\n",
    "    a = haversine_distance(df, lat1, lat1, long1, long2)\n",
    "    b = haversine_distance(df, lat1, lat2, long1, long1)\n",
    "    return a + b"
   ]
  },
  {
   "cell_type": "markdown",
   "id": "201f76bc",
   "metadata": {},
   "source": [
    "The provided Python function calculates the bearing (azimuth) between two sets of geographical coordinates (latitude and longitude). The bearing is the compass direction from the starting point to the destination point."
   ]
  },
  {
   "cell_type": "code",
   "execution_count": 68,
   "id": "55aa4bdd",
   "metadata": {},
   "outputs": [],
   "source": [
    "def bearing_array(df,lat1, long1, lat2, long2):\n",
    "    AVG_EARTH_RADIUS = 6371  # in km\n",
    "    long_delta_rad = np.radians(long2 - long1)\n",
    "    lat1, long1, lat2, long2 = map(np.radians, (lat1, long1, lat2, long2))\n",
    "    y = np.sin(long_delta_rad) * np.cos(lat2)\n",
    "    x = np.cos(lat1) * np.sin(lat2) - np.sin(lat1) * np.cos(lat2) * np.cos(long_delta_rad)\n",
    "    return np.degrees(np.arctan2(y, x))"
   ]
  },
  {
   "cell_type": "code",
   "execution_count": null,
   "id": "d13e6c83",
   "metadata": {},
   "outputs": [],
   "source": []
  },
  {
   "cell_type": "code",
   "execution_count": null,
   "id": "1c7418d0",
   "metadata": {},
   "outputs": [],
   "source": []
  },
  {
   "cell_type": "code",
   "execution_count": 5,
   "id": "122e2097",
   "metadata": {},
   "outputs": [],
   "source": [
    "df = pd.read_csv(r'C:\\Users\\Asus\\OneDrive\\Desktop\\nyc_taxi\\Group5-project\\train.csv')"
   ]
  },
  {
   "cell_type": "code",
   "execution_count": 6,
   "id": "07f41125",
   "metadata": {},
   "outputs": [
    {
     "data": {
      "text/html": [
       "<div>\n",
       "<style scoped>\n",
       "    .dataframe tbody tr th:only-of-type {\n",
       "        vertical-align: middle;\n",
       "    }\n",
       "\n",
       "    .dataframe tbody tr th {\n",
       "        vertical-align: top;\n",
       "    }\n",
       "\n",
       "    .dataframe thead th {\n",
       "        text-align: right;\n",
       "    }\n",
       "</style>\n",
       "<table border=\"1\" class=\"dataframe\">\n",
       "  <thead>\n",
       "    <tr style=\"text-align: right;\">\n",
       "      <th></th>\n",
       "      <th>id</th>\n",
       "      <th>vendor_id</th>\n",
       "      <th>pickup_datetime</th>\n",
       "      <th>dropoff_datetime</th>\n",
       "      <th>passenger_count</th>\n",
       "      <th>pickup_longitude</th>\n",
       "      <th>pickup_latitude</th>\n",
       "      <th>dropoff_longitude</th>\n",
       "      <th>dropoff_latitude</th>\n",
       "      <th>store_and_fwd_flag</th>\n",
       "      <th>trip_duration</th>\n",
       "    </tr>\n",
       "  </thead>\n",
       "  <tbody>\n",
       "    <tr>\n",
       "      <th>0</th>\n",
       "      <td>id2875421</td>\n",
       "      <td>2</td>\n",
       "      <td>2016-03-14 17:24:55</td>\n",
       "      <td>2016-03-14 17:32:30</td>\n",
       "      <td>1</td>\n",
       "      <td>-73.982155</td>\n",
       "      <td>40.767937</td>\n",
       "      <td>-73.964630</td>\n",
       "      <td>40.765602</td>\n",
       "      <td>N</td>\n",
       "      <td>455</td>\n",
       "    </tr>\n",
       "    <tr>\n",
       "      <th>1</th>\n",
       "      <td>id2377394</td>\n",
       "      <td>1</td>\n",
       "      <td>2016-06-12 00:43:35</td>\n",
       "      <td>2016-06-12 00:54:38</td>\n",
       "      <td>1</td>\n",
       "      <td>-73.980415</td>\n",
       "      <td>40.738564</td>\n",
       "      <td>-73.999481</td>\n",
       "      <td>40.731152</td>\n",
       "      <td>N</td>\n",
       "      <td>663</td>\n",
       "    </tr>\n",
       "    <tr>\n",
       "      <th>2</th>\n",
       "      <td>id3858529</td>\n",
       "      <td>2</td>\n",
       "      <td>2016-01-19 11:35:24</td>\n",
       "      <td>2016-01-19 12:10:48</td>\n",
       "      <td>1</td>\n",
       "      <td>-73.979027</td>\n",
       "      <td>40.763939</td>\n",
       "      <td>-74.005333</td>\n",
       "      <td>40.710087</td>\n",
       "      <td>N</td>\n",
       "      <td>2124</td>\n",
       "    </tr>\n",
       "    <tr>\n",
       "      <th>3</th>\n",
       "      <td>id3504673</td>\n",
       "      <td>2</td>\n",
       "      <td>2016-04-06 19:32:31</td>\n",
       "      <td>2016-04-06 19:39:40</td>\n",
       "      <td>1</td>\n",
       "      <td>-74.010040</td>\n",
       "      <td>40.719971</td>\n",
       "      <td>-74.012268</td>\n",
       "      <td>40.706718</td>\n",
       "      <td>N</td>\n",
       "      <td>429</td>\n",
       "    </tr>\n",
       "    <tr>\n",
       "      <th>4</th>\n",
       "      <td>id2181028</td>\n",
       "      <td>2</td>\n",
       "      <td>2016-03-26 13:30:55</td>\n",
       "      <td>2016-03-26 13:38:10</td>\n",
       "      <td>1</td>\n",
       "      <td>-73.973053</td>\n",
       "      <td>40.793209</td>\n",
       "      <td>-73.972923</td>\n",
       "      <td>40.782520</td>\n",
       "      <td>N</td>\n",
       "      <td>435</td>\n",
       "    </tr>\n",
       "  </tbody>\n",
       "</table>\n",
       "</div>"
      ],
      "text/plain": [
       "          id  vendor_id      pickup_datetime     dropoff_datetime  \\\n",
       "0  id2875421          2  2016-03-14 17:24:55  2016-03-14 17:32:30   \n",
       "1  id2377394          1  2016-06-12 00:43:35  2016-06-12 00:54:38   \n",
       "2  id3858529          2  2016-01-19 11:35:24  2016-01-19 12:10:48   \n",
       "3  id3504673          2  2016-04-06 19:32:31  2016-04-06 19:39:40   \n",
       "4  id2181028          2  2016-03-26 13:30:55  2016-03-26 13:38:10   \n",
       "\n",
       "   passenger_count  pickup_longitude  pickup_latitude  dropoff_longitude  \\\n",
       "0                1        -73.982155        40.767937         -73.964630   \n",
       "1                1        -73.980415        40.738564         -73.999481   \n",
       "2                1        -73.979027        40.763939         -74.005333   \n",
       "3                1        -74.010040        40.719971         -74.012268   \n",
       "4                1        -73.973053        40.793209         -73.972923   \n",
       "\n",
       "   dropoff_latitude store_and_fwd_flag  trip_duration  \n",
       "0         40.765602                  N            455  \n",
       "1         40.731152                  N            663  \n",
       "2         40.710087                  N           2124  \n",
       "3         40.706718                  N            429  \n",
       "4         40.782520                  N            435  "
      ]
     },
     "execution_count": 6,
     "metadata": {},
     "output_type": "execute_result"
    }
   ],
   "source": [
    "df.head()"
   ]
  },
  {
   "cell_type": "code",
   "execution_count": 7,
   "id": "35a852f2",
   "metadata": {},
   "outputs": [
    {
     "name": "stdout",
     "output_type": "stream",
     "text": [
      "<class 'pandas.core.frame.DataFrame'>\n",
      "RangeIndex: 1458644 entries, 0 to 1458643\n",
      "Data columns (total 11 columns):\n",
      " #   Column              Non-Null Count    Dtype  \n",
      "---  ------              --------------    -----  \n",
      " 0   id                  1458644 non-null  object \n",
      " 1   vendor_id           1458644 non-null  int64  \n",
      " 2   pickup_datetime     1458644 non-null  object \n",
      " 3   dropoff_datetime    1458644 non-null  object \n",
      " 4   passenger_count     1458644 non-null  int64  \n",
      " 5   pickup_longitude    1458644 non-null  float64\n",
      " 6   pickup_latitude     1458644 non-null  float64\n",
      " 7   dropoff_longitude   1458644 non-null  float64\n",
      " 8   dropoff_latitude    1458644 non-null  float64\n",
      " 9   store_and_fwd_flag  1458644 non-null  object \n",
      " 10  trip_duration       1458644 non-null  int64  \n",
      "dtypes: float64(4), int64(3), object(4)\n",
      "memory usage: 122.4+ MB\n"
     ]
    }
   ],
   "source": [
    "df.info()"
   ]
  },
  {
   "cell_type": "code",
   "execution_count": 8,
   "id": "fdc2b550",
   "metadata": {},
   "outputs": [
    {
     "name": "stdout",
     "output_type": "stream",
     "text": [
      "id                    0\n",
      "vendor_id             0\n",
      "pickup_datetime       0\n",
      "dropoff_datetime      0\n",
      "passenger_count       0\n",
      "pickup_longitude      0\n",
      "pickup_latitude       0\n",
      "dropoff_longitude     0\n",
      "dropoff_latitude      0\n",
      "store_and_fwd_flag    0\n",
      "trip_duration         0\n",
      "dtype: int64\n"
     ]
    }
   ],
   "source": [
    "print(df.isnull().sum()) #no nan values\n"
   ]
  },
  {
   "cell_type": "code",
   "execution_count": 10,
   "id": "259e3f93",
   "metadata": {},
   "outputs": [
    {
     "name": "stdout",
     "output_type": "stream",
     "text": [
      "No of duplicates, trip ids : 0\n"
     ]
    }
   ],
   "source": [
    "#check for duplicates\n",
    "print('No of duplicates, trip ids : {}'.format(len(df) - len(df.drop_duplicates())))  #no duplicates"
   ]
  },
  {
   "cell_type": "code",
   "execution_count": 12,
   "id": "6b2fbbbb",
   "metadata": {},
   "outputs": [
    {
     "data": {
      "text/plain": [
       "(34.35969543457031, 32.1811408996582)"
      ]
     },
     "execution_count": 12,
     "metadata": {},
     "output_type": "execute_result"
    }
   ],
   "source": [
    "df.pickup_latitude.min(), df.dropoff_latitude.min()"
   ]
  },
  {
   "cell_type": "code",
   "execution_count": 14,
   "id": "98cfc285",
   "metadata": {},
   "outputs": [
    {
     "data": {
      "text/plain": [
       "(51.88108444213867, 43.92102813720703)"
      ]
     },
     "execution_count": 14,
     "metadata": {},
     "output_type": "execute_result"
    }
   ],
   "source": [
    "df.pickup_latitude.max(), df.dropoff_latitude.max()"
   ]
  },
  {
   "cell_type": "code",
   "execution_count": 13,
   "id": "def9be86",
   "metadata": {},
   "outputs": [
    {
     "data": {
      "text/plain": [
       "(-121.93334197998048, -121.9333038330078)"
      ]
     },
     "execution_count": 13,
     "metadata": {},
     "output_type": "execute_result"
    }
   ],
   "source": [
    "df.pickup_longitude.min(), df.dropoff_longitude.min()"
   ]
  },
  {
   "cell_type": "code",
   "execution_count": 15,
   "id": "e0e5f08f",
   "metadata": {},
   "outputs": [
    {
     "data": {
      "text/plain": [
       "(-61.33552932739258, -61.33552932739258)"
      ]
     },
     "execution_count": 15,
     "metadata": {},
     "output_type": "execute_result"
    }
   ],
   "source": [
    "df.pickup_longitude.max(), df.dropoff_longitude.max()"
   ]
  },
  {
   "cell_type": "code",
   "execution_count": 16,
   "id": "3599a476",
   "metadata": {},
   "outputs": [
    {
     "name": "stdout",
     "output_type": "stream",
     "text": [
      "Trip duration in seconds: 1 to 3526282\n"
     ]
    }
   ],
   "source": [
    "print('Trip duration in seconds: {} to {}'.format(\n",
    "    df.trip_duration.min(), df.trip_duration.max()\n",
    "))"
   ]
  },
  {
   "cell_type": "code",
   "execution_count": 17,
   "id": "f05bdd0c",
   "metadata": {},
   "outputs": [
    {
     "name": "stdout",
     "output_type": "stream",
     "text": [
      "Vendors cnt: 2\n"
     ]
    }
   ],
   "source": [
    "print('Vendors cnt: {}'.format(len(df.vendor_id.unique()))) #only 2 unique vendors"
   ]
  },
  {
   "cell_type": "code",
   "execution_count": 18,
   "id": "a2167f7d",
   "metadata": {},
   "outputs": [
    {
     "name": "stdout",
     "output_type": "stream",
     "text": [
      "Passengers: 0 to 9\n"
     ]
    }
   ],
   "source": [
    "print('Passengers: {} to {}'.format(df.passenger_count.min(),df.passenger_count.max()))"
   ]
  },
  {
   "cell_type": "code",
   "execution_count": 23,
   "id": "3831d895",
   "metadata": {},
   "outputs": [],
   "source": [
    "#finding empty trips"
   ]
  },
  {
   "cell_type": "code",
   "execution_count": 27,
   "id": "e682cbfe",
   "metadata": {},
   "outputs": [
    {
     "data": {
      "text/plain": [
       "(60, 11)"
      ]
     },
     "execution_count": 27,
     "metadata": {},
     "output_type": "execute_result"
    }
   ],
   "source": [
    "df[df.passenger_count == 0].shape"
   ]
  },
  {
   "cell_type": "code",
   "execution_count": 29,
   "id": "8a552b1d",
   "metadata": {},
   "outputs": [
    {
     "name": "stdout",
     "output_type": "stream",
     "text": [
      "Empty trips: 60\n"
     ]
    }
   ],
   "source": [
    "print('Empty trips: {}'.format(df[df.passenger_count == 0].shape[0]))\n"
   ]
  },
  {
   "cell_type": "code",
   "execution_count": 30,
   "id": "94ce5b75",
   "metadata": {},
   "outputs": [],
   "source": [
    "df = df[df['passenger_count'] > 0]"
   ]
  },
  {
   "cell_type": "code",
   "execution_count": 31,
   "id": "5b4cf2ba",
   "metadata": {},
   "outputs": [
    {
     "data": {
      "text/plain": [
       "Index(['id', 'vendor_id', 'pickup_datetime', 'dropoff_datetime',\n",
       "       'passenger_count', 'pickup_longitude', 'pickup_latitude',\n",
       "       'dropoff_longitude', 'dropoff_latitude', 'store_and_fwd_flag',\n",
       "       'trip_duration'],\n",
       "      dtype='object')"
      ]
     },
     "execution_count": 31,
     "metadata": {},
     "output_type": "execute_result"
    }
   ],
   "source": [
    "df.columns"
   ]
  },
  {
   "cell_type": "code",
   "execution_count": 32,
   "id": "b916c5f1",
   "metadata": {},
   "outputs": [],
   "source": [
    "df['pickup_datetime'] = pd.to_datetime(df.pickup_datetime)\n",
    "df['dropoff_datetime'] = pd.to_datetime(df.dropoff_datetime)\n"
   ]
  },
  {
   "cell_type": "code",
   "execution_count": 33,
   "id": "055d548f",
   "metadata": {},
   "outputs": [],
   "source": [
    "df.loc[:, 'pickup_date'] = df['pickup_datetime'].dt.date"
   ]
  },
  {
   "cell_type": "code",
   "execution_count": 34,
   "id": "fa803d8d",
   "metadata": {},
   "outputs": [],
   "source": [
    "df.loc[:, 'dropoff_date'] = df['dropoff_datetime'].dt.date"
   ]
  },
  {
   "cell_type": "code",
   "execution_count": 35,
   "id": "ff7b3d48",
   "metadata": {},
   "outputs": [],
   "source": [
    "df['check_trip_duration'] = (df['dropoff_datetime'] - df['pickup_datetime']).map(lambda x : x.total_seconds())"
   ]
  },
  {
   "cell_type": "code",
   "execution_count": 36,
   "id": "936898e6",
   "metadata": {},
   "outputs": [],
   "source": [
    "duration_difference = df[np.abs(df['check_trip_duration'].values  - df['trip_duration'].values) > 1]"
   ]
  },
  {
   "cell_type": "code",
   "execution_count": 37,
   "id": "c98996ec",
   "metadata": {},
   "outputs": [
    {
     "data": {
      "text/html": [
       "<div>\n",
       "<style scoped>\n",
       "    .dataframe tbody tr th:only-of-type {\n",
       "        vertical-align: middle;\n",
       "    }\n",
       "\n",
       "    .dataframe tbody tr th {\n",
       "        vertical-align: top;\n",
       "    }\n",
       "\n",
       "    .dataframe thead th {\n",
       "        text-align: right;\n",
       "    }\n",
       "</style>\n",
       "<table border=\"1\" class=\"dataframe\">\n",
       "  <thead>\n",
       "    <tr style=\"text-align: right;\">\n",
       "      <th></th>\n",
       "      <th>id</th>\n",
       "      <th>vendor_id</th>\n",
       "      <th>pickup_datetime</th>\n",
       "      <th>dropoff_datetime</th>\n",
       "      <th>passenger_count</th>\n",
       "      <th>pickup_longitude</th>\n",
       "      <th>pickup_latitude</th>\n",
       "      <th>dropoff_longitude</th>\n",
       "      <th>dropoff_latitude</th>\n",
       "      <th>store_and_fwd_flag</th>\n",
       "      <th>trip_duration</th>\n",
       "      <th>pickup_date</th>\n",
       "      <th>dropoff_date</th>\n",
       "      <th>check_trip_duration</th>\n",
       "    </tr>\n",
       "  </thead>\n",
       "  <tbody>\n",
       "  </tbody>\n",
       "</table>\n",
       "</div>"
      ],
      "text/plain": [
       "Empty DataFrame\n",
       "Columns: [id, vendor_id, pickup_datetime, dropoff_datetime, passenger_count, pickup_longitude, pickup_latitude, dropoff_longitude, dropoff_latitude, store_and_fwd_flag, trip_duration, pickup_date, dropoff_date, check_trip_duration]\n",
       "Index: []"
      ]
     },
     "execution_count": 37,
     "metadata": {},
     "output_type": "execute_result"
    }
   ],
   "source": [
    "duration_difference"
   ]
  },
  {
   "cell_type": "code",
   "execution_count": 38,
   "id": "81f9e565",
   "metadata": {},
   "outputs": [
    {
     "name": "stdout",
     "output_type": "stream",
     "text": [
      "Trip_duration and datetimes are ok.\n"
     ]
    }
   ],
   "source": [
    "print('Trip_duration and datetimes are ok.') if len(duration_difference[['pickup_datetime', 'dropoff_datetime', 'trip_duration', 'check_trip_duration']]) == 0 else print('mismatch')"
   ]
  },
  {
   "cell_type": "code",
   "execution_count": 45,
   "id": "b879d6f2",
   "metadata": {},
   "outputs": [
    {
     "data": {
      "text/plain": [
       "(array([1.45858e+06, 0.00000e+00, 0.00000e+00, 0.00000e+00, 0.00000e+00,\n",
       "        2.00000e+00, 1.00000e+00, 0.00000e+00, 0.00000e+00, 1.00000e+00]),\n",
       " array([1.0000000e+00, 3.5262910e+05, 7.0525720e+05, 1.0578853e+06,\n",
       "        1.4105134e+06, 1.7631415e+06, 2.1157696e+06, 2.4683977e+06,\n",
       "        2.8210258e+06, 3.1736539e+06, 3.5262820e+06]),\n",
       " <BarContainer object of 10 artists>)"
      ]
     },
     "execution_count": 45,
     "metadata": {},
     "output_type": "execute_result"
    },
    {
     "data": {
      "image/png": "[encoded data removed]",
      "text/plain": [
       "<Figure size 640x480 with 1 Axes>"
      ]
     },
     "metadata": {},
     "output_type": "display_data"
    }
   ],
   "source": [
    "plt.hist(df['trip_duration'], bins = 10)"
   ]
  },
  {
   "cell_type": "code",
   "execution_count": null,
   "id": "c58d958a",
   "metadata": {},
   "outputs": [],
   "source": []
  },
  {
   "cell_type": "markdown",
   "id": "ae76e038",
   "metadata": {},
   "source": [
    "The max trip duration is ~ 1000 hours.So will be using log transformation to visualise and data wrangling as it has wide range of values"
   ]
  },
  {
   "cell_type": "code",
   "execution_count": 41,
   "id": "97d36046",
   "metadata": {},
   "outputs": [
    {
     "data": {
      "text/plain": [
       "979"
      ]
     },
     "execution_count": 41,
     "metadata": {},
     "output_type": "execute_result"
    }
   ],
   "source": [
    "df['trip_duration'].max() // 3600"
   ]
  },
  {
   "cell_type": "code",
   "execution_count": null,
   "id": "8304581c",
   "metadata": {},
   "outputs": [],
   "source": []
  },
  {
   "cell_type": "code",
   "execution_count": 46,
   "id": "38525c4b",
   "metadata": {},
   "outputs": [
    {
     "data": {
      "image/png": "[encoded data removed]",
      "text/plain": [
       "<Figure size 640x480 with 1 Axes>"
      ]
     },
     "metadata": {},
     "output_type": "display_data"
    }
   ],
   "source": [
    "df['log_trip_duration'] = np.log(df['trip_duration'].values + 1)\n",
    "plt.hist(df['log_trip_duration'].values, bins = 50)\n",
    "plt.xlabel('log(trip_duration)')\n",
    "plt.ylabel('number of train records')\n",
    "plt.show()\n",
    "\n"
   ]
  },
  {
   "cell_type": "code",
   "execution_count": 48,
   "id": "94d45569",
   "metadata": {},
   "outputs": [
    {
     "data": {
      "text/plain": [
       "[<matplotlib.lines.Line2D at 0x199f6f8b690>]"
      ]
     },
     "execution_count": 48,
     "metadata": {},
     "output_type": "execute_result"
    },
    {
     "data": {
      "image/png": "[encoded data removed]",
      "text/plain": [
       "<Figure size 640x480 with 1 Axes>"
      ]
     },
     "metadata": {},
     "output_type": "display_data"
    }
   ],
   "source": [
    "plt.plot(df.groupby('pickup_date').count()[['id']], 'o-')\n"
   ]
  },
  {
   "cell_type": "code",
   "execution_count": 53,
   "id": "cdf7b348",
   "metadata": {},
   "outputs": [
    {
     "data": {
      "text/plain": [
       "['id',\n",
       " 'vendor_id',\n",
       " 'pickup_datetime',\n",
       " 'dropoff_datetime',\n",
       " 'passenger_count',\n",
       " 'pickup_longitude',\n",
       " 'pickup_latitude',\n",
       " 'dropoff_longitude',\n",
       " 'dropoff_latitude',\n",
       " 'store_and_fwd_flag',\n",
       " 'trip_duration',\n",
       " 'pickup_date',\n",
       " 'dropoff_date',\n",
       " 'check_trip_duration',\n",
       " 'log_trip_duration']"
      ]
     },
     "execution_count": 53,
     "metadata": {},
     "output_type": "execute_result"
    }
   ],
   "source": [
    "df.columns.to_list()"
   ]
  },
  {
   "cell_type": "code",
   "execution_count": null,
   "id": "69f442e2",
   "metadata": {},
   "outputs": [],
   "source": []
  },
  {
   "cell_type": "code",
   "execution_count": 58,
   "id": "87b2aec7",
   "metadata": {},
   "outputs": [],
   "source": [
    "df.loc[:, 'distance_haversine'] = haversine_distance(df, 'pickup_latitude', 'dropoff_latitude', 'pickup_longitude','dropoff_longitude')\n"
   ]
  },
  {
   "cell_type": "code",
   "execution_count": 60,
   "id": "af0854f0",
   "metadata": {},
   "outputs": [
    {
     "data": {
      "text/html": [
       "<div>\n",
       "<style scoped>\n",
       "    .dataframe tbody tr th:only-of-type {\n",
       "        vertical-align: middle;\n",
       "    }\n",
       "\n",
       "    .dataframe tbody tr th {\n",
       "        vertical-align: top;\n",
       "    }\n",
       "\n",
       "    .dataframe thead th {\n",
       "        text-align: right;\n",
       "    }\n",
       "</style>\n",
       "<table border=\"1\" class=\"dataframe\">\n",
       "  <thead>\n",
       "    <tr style=\"text-align: right;\">\n",
       "      <th></th>\n",
       "      <th>id</th>\n",
       "      <th>vendor_id</th>\n",
       "      <th>pickup_datetime</th>\n",
       "      <th>dropoff_datetime</th>\n",
       "      <th>passenger_count</th>\n",
       "      <th>pickup_longitude</th>\n",
       "      <th>pickup_latitude</th>\n",
       "      <th>dropoff_longitude</th>\n",
       "      <th>dropoff_latitude</th>\n",
       "      <th>store_and_fwd_flag</th>\n",
       "      <th>trip_duration</th>\n",
       "      <th>pickup_date</th>\n",
       "      <th>dropoff_date</th>\n",
       "      <th>check_trip_duration</th>\n",
       "      <th>log_trip_duration</th>\n",
       "      <th>distance_haversine</th>\n",
       "    </tr>\n",
       "  </thead>\n",
       "  <tbody>\n",
       "    <tr>\n",
       "      <th>0</th>\n",
       "      <td>id2875421</td>\n",
       "      <td>2</td>\n",
       "      <td>2016-03-14 17:24:55</td>\n",
       "      <td>2016-03-14 17:32:30</td>\n",
       "      <td>1</td>\n",
       "      <td>-73.982155</td>\n",
       "      <td>40.767937</td>\n",
       "      <td>-73.964630</td>\n",
       "      <td>40.765602</td>\n",
       "      <td>N</td>\n",
       "      <td>455</td>\n",
       "      <td>2016-03-14</td>\n",
       "      <td>2016-03-14</td>\n",
       "      <td>455.0</td>\n",
       "      <td>6.122493</td>\n",
       "      <td>1.498521</td>\n",
       "    </tr>\n",
       "    <tr>\n",
       "      <th>1</th>\n",
       "      <td>id2377394</td>\n",
       "      <td>1</td>\n",
       "      <td>2016-06-12 00:43:35</td>\n",
       "      <td>2016-06-12 00:54:38</td>\n",
       "      <td>1</td>\n",
       "      <td>-73.980415</td>\n",
       "      <td>40.738564</td>\n",
       "      <td>-73.999481</td>\n",
       "      <td>40.731152</td>\n",
       "      <td>N</td>\n",
       "      <td>663</td>\n",
       "      <td>2016-06-12</td>\n",
       "      <td>2016-06-12</td>\n",
       "      <td>663.0</td>\n",
       "      <td>6.498282</td>\n",
       "      <td>1.805507</td>\n",
       "    </tr>\n",
       "    <tr>\n",
       "      <th>2</th>\n",
       "      <td>id3858529</td>\n",
       "      <td>2</td>\n",
       "      <td>2016-01-19 11:35:24</td>\n",
       "      <td>2016-01-19 12:10:48</td>\n",
       "      <td>1</td>\n",
       "      <td>-73.979027</td>\n",
       "      <td>40.763939</td>\n",
       "      <td>-74.005333</td>\n",
       "      <td>40.710087</td>\n",
       "      <td>N</td>\n",
       "      <td>2124</td>\n",
       "      <td>2016-01-19</td>\n",
       "      <td>2016-01-19</td>\n",
       "      <td>2124.0</td>\n",
       "      <td>7.661527</td>\n",
       "      <td>6.385098</td>\n",
       "    </tr>\n",
       "    <tr>\n",
       "      <th>3</th>\n",
       "      <td>id3504673</td>\n",
       "      <td>2</td>\n",
       "      <td>2016-04-06 19:32:31</td>\n",
       "      <td>2016-04-06 19:39:40</td>\n",
       "      <td>1</td>\n",
       "      <td>-74.010040</td>\n",
       "      <td>40.719971</td>\n",
       "      <td>-74.012268</td>\n",
       "      <td>40.706718</td>\n",
       "      <td>N</td>\n",
       "      <td>429</td>\n",
       "      <td>2016-04-06</td>\n",
       "      <td>2016-04-06</td>\n",
       "      <td>429.0</td>\n",
       "      <td>6.063785</td>\n",
       "      <td>1.485498</td>\n",
       "    </tr>\n",
       "    <tr>\n",
       "      <th>4</th>\n",
       "      <td>id2181028</td>\n",
       "      <td>2</td>\n",
       "      <td>2016-03-26 13:30:55</td>\n",
       "      <td>2016-03-26 13:38:10</td>\n",
       "      <td>1</td>\n",
       "      <td>-73.973053</td>\n",
       "      <td>40.793209</td>\n",
       "      <td>-73.972923</td>\n",
       "      <td>40.782520</td>\n",
       "      <td>N</td>\n",
       "      <td>435</td>\n",
       "      <td>2016-03-26</td>\n",
       "      <td>2016-03-26</td>\n",
       "      <td>435.0</td>\n",
       "      <td>6.077642</td>\n",
       "      <td>1.188588</td>\n",
       "    </tr>\n",
       "  </tbody>\n",
       "</table>\n",
       "</div>"
      ],
      "text/plain": [
       "          id  vendor_id     pickup_datetime    dropoff_datetime  \\\n",
       "0  id2875421          2 2016-03-14 17:24:55 2016-03-14 17:32:30   \n",
       "1  id2377394          1 2016-06-12 00:43:35 2016-06-12 00:54:38   \n",
       "2  id3858529          2 2016-01-19 11:35:24 2016-01-19 12:10:48   \n",
       "3  id3504673          2 2016-04-06 19:32:31 2016-04-06 19:39:40   \n",
       "4  id2181028          2 2016-03-26 13:30:55 2016-03-26 13:38:10   \n",
       "\n",
       "   passenger_count  pickup_longitude  pickup_latitude  dropoff_longitude  \\\n",
       "0                1        -73.982155        40.767937         -73.964630   \n",
       "1                1        -73.980415        40.738564         -73.999481   \n",
       "2                1        -73.979027        40.763939         -74.005333   \n",
       "3                1        -74.010040        40.719971         -74.012268   \n",
       "4                1        -73.973053        40.793209         -73.972923   \n",
       "\n",
       "   dropoff_latitude store_and_fwd_flag  trip_duration pickup_date  \\\n",
       "0         40.765602                  N            455  2016-03-14   \n",
       "1         40.731152                  N            663  2016-06-12   \n",
       "2         40.710087                  N           2124  2016-01-19   \n",
       "3         40.706718                  N            429  2016-04-06   \n",
       "4         40.782520                  N            435  2016-03-26   \n",
       "\n",
       "  dropoff_date  check_trip_duration  log_trip_duration  distance_haversine  \n",
       "0   2016-03-14                455.0           6.122493            1.498521  \n",
       "1   2016-06-12                663.0           6.498282            1.805507  \n",
       "2   2016-01-19               2124.0           7.661527            6.385098  \n",
       "3   2016-04-06                429.0           6.063785            1.485498  \n",
       "4   2016-03-26                435.0           6.077642            1.188588  "
      ]
     },
     "execution_count": 60,
     "metadata": {},
     "output_type": "execute_result"
    }
   ],
   "source": [
    "df.head()"
   ]
  },
  {
   "cell_type": "code",
   "execution_count": 63,
   "id": "15eabaf1",
   "metadata": {},
   "outputs": [],
   "source": [
    "df.loc[:, 'distance_manhattan'] = dummy_manhattan_distance(df,'pickup_latitude', 'pickup_longitude', 'dropoff_latitude', 'dropoff_longitude')"
   ]
  },
  {
   "cell_type": "code",
   "execution_count": 70,
   "id": "32ae062c",
   "metadata": {},
   "outputs": [],
   "source": [
    "df.loc[:, 'direction'] = bearing_array(df,df['pickup_latitude'].values, df['pickup_longitude'].values,df['dropoff_latitude'].values, df['dropoff_longitude'].values)"
   ]
  },
  {
   "cell_type": "code",
   "execution_count": 71,
   "id": "fdebc8e9",
   "metadata": {},
   "outputs": [],
   "source": [
    "df.loc[:, 'center_latitude'] = (df['pickup_latitude'].values + df['dropoff_latitude'].values) / 2\n",
    "df.loc[:, 'center_longitude'] = (df['pickup_longitude'].values + df['dropoff_longitude'].values) / 2"
   ]
  },
  {
   "cell_type": "code",
   "execution_count": 72,
   "id": "3d46d797",
   "metadata": {},
   "outputs": [
    {
     "data": {
      "text/html": [
       "<div>\n",
       "<style scoped>\n",
       "    .dataframe tbody tr th:only-of-type {\n",
       "        vertical-align: middle;\n",
       "    }\n",
       "\n",
       "    .dataframe tbody tr th {\n",
       "        vertical-align: top;\n",
       "    }\n",
       "\n",
       "    .dataframe thead th {\n",
       "        text-align: right;\n",
       "    }\n",
       "</style>\n",
       "<table border=\"1\" class=\"dataframe\">\n",
       "  <thead>\n",
       "    <tr style=\"text-align: right;\">\n",
       "      <th></th>\n",
       "      <th>id</th>\n",
       "      <th>vendor_id</th>\n",
       "      <th>pickup_datetime</th>\n",
       "      <th>dropoff_datetime</th>\n",
       "      <th>passenger_count</th>\n",
       "      <th>pickup_longitude</th>\n",
       "      <th>pickup_latitude</th>\n",
       "      <th>dropoff_longitude</th>\n",
       "      <th>dropoff_latitude</th>\n",
       "      <th>store_and_fwd_flag</th>\n",
       "      <th>trip_duration</th>\n",
       "      <th>pickup_date</th>\n",
       "      <th>dropoff_date</th>\n",
       "      <th>check_trip_duration</th>\n",
       "      <th>log_trip_duration</th>\n",
       "      <th>distance_haversine</th>\n",
       "      <th>distance_manhattan</th>\n",
       "      <th>direction</th>\n",
       "      <th>center_latitude</th>\n",
       "      <th>center_longitude</th>\n",
       "    </tr>\n",
       "  </thead>\n",
       "  <tbody>\n",
       "    <tr>\n",
       "      <th>0</th>\n",
       "      <td>id2875421</td>\n",
       "      <td>2</td>\n",
       "      <td>2016-03-14 17:24:55</td>\n",
       "      <td>2016-03-14 17:32:30</td>\n",
       "      <td>1</td>\n",
       "      <td>-73.982155</td>\n",
       "      <td>40.767937</td>\n",
       "      <td>-73.964630</td>\n",
       "      <td>40.765602</td>\n",
       "      <td>N</td>\n",
       "      <td>455</td>\n",
       "      <td>2016-03-14</td>\n",
       "      <td>2016-03-14</td>\n",
       "      <td>455.0</td>\n",
       "      <td>6.122493</td>\n",
       "      <td>1.498521</td>\n",
       "      <td>1.735433</td>\n",
       "      <td>99.970196</td>\n",
       "      <td>40.766769</td>\n",
       "      <td>-73.973392</td>\n",
       "    </tr>\n",
       "    <tr>\n",
       "      <th>1</th>\n",
       "      <td>id2377394</td>\n",
       "      <td>1</td>\n",
       "      <td>2016-06-12 00:43:35</td>\n",
       "      <td>2016-06-12 00:54:38</td>\n",
       "      <td>1</td>\n",
       "      <td>-73.980415</td>\n",
       "      <td>40.738564</td>\n",
       "      <td>-73.999481</td>\n",
       "      <td>40.731152</td>\n",
       "      <td>N</td>\n",
       "      <td>663</td>\n",
       "      <td>2016-06-12</td>\n",
       "      <td>2016-06-12</td>\n",
       "      <td>663.0</td>\n",
       "      <td>6.498282</td>\n",
       "      <td>1.805507</td>\n",
       "      <td>2.430506</td>\n",
       "      <td>-117.153768</td>\n",
       "      <td>40.734858</td>\n",
       "      <td>-73.989948</td>\n",
       "    </tr>\n",
       "    <tr>\n",
       "      <th>2</th>\n",
       "      <td>id3858529</td>\n",
       "      <td>2</td>\n",
       "      <td>2016-01-19 11:35:24</td>\n",
       "      <td>2016-01-19 12:10:48</td>\n",
       "      <td>1</td>\n",
       "      <td>-73.979027</td>\n",
       "      <td>40.763939</td>\n",
       "      <td>-74.005333</td>\n",
       "      <td>40.710087</td>\n",
       "      <td>N</td>\n",
       "      <td>2124</td>\n",
       "      <td>2016-01-19</td>\n",
       "      <td>2016-01-19</td>\n",
       "      <td>2124.0</td>\n",
       "      <td>7.661527</td>\n",
       "      <td>6.385098</td>\n",
       "      <td>8.203575</td>\n",
       "      <td>-159.680165</td>\n",
       "      <td>40.737013</td>\n",
       "      <td>-73.992180</td>\n",
       "    </tr>\n",
       "    <tr>\n",
       "      <th>3</th>\n",
       "      <td>id3504673</td>\n",
       "      <td>2</td>\n",
       "      <td>2016-04-06 19:32:31</td>\n",
       "      <td>2016-04-06 19:39:40</td>\n",
       "      <td>1</td>\n",
       "      <td>-74.010040</td>\n",
       "      <td>40.719971</td>\n",
       "      <td>-74.012268</td>\n",
       "      <td>40.706718</td>\n",
       "      <td>N</td>\n",
       "      <td>429</td>\n",
       "      <td>2016-04-06</td>\n",
       "      <td>2016-04-06</td>\n",
       "      <td>429.0</td>\n",
       "      <td>6.063785</td>\n",
       "      <td>1.485498</td>\n",
       "      <td>1.661331</td>\n",
       "      <td>-172.737700</td>\n",
       "      <td>40.713345</td>\n",
       "      <td>-74.011154</td>\n",
       "    </tr>\n",
       "    <tr>\n",
       "      <th>4</th>\n",
       "      <td>id2181028</td>\n",
       "      <td>2</td>\n",
       "      <td>2016-03-26 13:30:55</td>\n",
       "      <td>2016-03-26 13:38:10</td>\n",
       "      <td>1</td>\n",
       "      <td>-73.973053</td>\n",
       "      <td>40.793209</td>\n",
       "      <td>-73.972923</td>\n",
       "      <td>40.782520</td>\n",
       "      <td>N</td>\n",
       "      <td>435</td>\n",
       "      <td>2016-03-26</td>\n",
       "      <td>2016-03-26</td>\n",
       "      <td>435.0</td>\n",
       "      <td>6.077642</td>\n",
       "      <td>1.188588</td>\n",
       "      <td>1.199457</td>\n",
       "      <td>179.473585</td>\n",
       "      <td>40.787865</td>\n",
       "      <td>-73.972988</td>\n",
       "    </tr>\n",
       "  </tbody>\n",
       "</table>\n",
       "</div>"
      ],
      "text/plain": [
       "          id  vendor_id     pickup_datetime    dropoff_datetime  \\\n",
       "0  id2875421          2 2016-03-14 17:24:55 2016-03-14 17:32:30   \n",
       "1  id2377394          1 2016-06-12 00:43:35 2016-06-12 00:54:38   \n",
       "2  id3858529          2 2016-01-19 11:35:24 2016-01-19 12:10:48   \n",
       "3  id3504673          2 2016-04-06 19:32:31 2016-04-06 19:39:40   \n",
       "4  id2181028          2 2016-03-26 13:30:55 2016-03-26 13:38:10   \n",
       "\n",
       "   passenger_count  pickup_longitude  pickup_latitude  dropoff_longitude  \\\n",
       "0                1        -73.982155        40.767937         -73.964630   \n",
       "1                1        -73.980415        40.738564         -73.999481   \n",
       "2                1        -73.979027        40.763939         -74.005333   \n",
       "3                1        -74.010040        40.719971         -74.012268   \n",
       "4                1        -73.973053        40.793209         -73.972923   \n",
       "\n",
       "   dropoff_latitude store_and_fwd_flag  trip_duration pickup_date  \\\n",
       "0         40.765602                  N            455  2016-03-14   \n",
       "1         40.731152                  N            663  2016-06-12   \n",
       "2         40.710087                  N           2124  2016-01-19   \n",
       "3         40.706718                  N            429  2016-04-06   \n",
       "4         40.782520                  N            435  2016-03-26   \n",
       "\n",
       "  dropoff_date  check_trip_duration  log_trip_duration  distance_haversine  \\\n",
       "0   2016-03-14                455.0           6.122493            1.498521   \n",
       "1   2016-06-12                663.0           6.498282            1.805507   \n",
       "2   2016-01-19               2124.0           7.661527            6.385098   \n",
       "3   2016-04-06                429.0           6.063785            1.485498   \n",
       "4   2016-03-26                435.0           6.077642            1.188588   \n",
       "\n",
       "   distance_manhattan   direction  center_latitude  center_longitude  \n",
       "0            1.735433   99.970196        40.766769        -73.973392  \n",
       "1            2.430506 -117.153768        40.734858        -73.989948  \n",
       "2            8.203575 -159.680165        40.737013        -73.992180  \n",
       "3            1.661331 -172.737700        40.713345        -74.011154  \n",
       "4            1.199457  179.473585        40.787865        -73.972988  "
      ]
     },
     "execution_count": 72,
     "metadata": {},
     "output_type": "execute_result"
    }
   ],
   "source": [
    "df.head()"
   ]
  },
  {
   "cell_type": "code",
   "execution_count": 74,
   "id": "2946db4b",
   "metadata": {},
   "outputs": [
    {
     "data": {
      "text/html": [
       "<div>\n",
       "<style scoped>\n",
       "    .dataframe tbody tr th:only-of-type {\n",
       "        vertical-align: middle;\n",
       "    }\n",
       "\n",
       "    .dataframe tbody tr th {\n",
       "        vertical-align: top;\n",
       "    }\n",
       "\n",
       "    .dataframe thead th {\n",
       "        text-align: right;\n",
       "    }\n",
       "</style>\n",
       "<table border=\"1\" class=\"dataframe\">\n",
       "  <thead>\n",
       "    <tr style=\"text-align: right;\">\n",
       "      <th></th>\n",
       "      <th>id</th>\n",
       "      <th>vendor_id</th>\n",
       "      <th>pickup_datetime</th>\n",
       "      <th>dropoff_datetime</th>\n",
       "      <th>passenger_count</th>\n",
       "      <th>pickup_longitude</th>\n",
       "      <th>pickup_latitude</th>\n",
       "      <th>dropoff_longitude</th>\n",
       "      <th>dropoff_latitude</th>\n",
       "      <th>store_and_fwd_flag</th>\n",
       "      <th>trip_duration</th>\n",
       "      <th>pickup_date</th>\n",
       "      <th>dropoff_date</th>\n",
       "      <th>check_trip_duration</th>\n",
       "      <th>log_trip_duration</th>\n",
       "      <th>distance_haversine</th>\n",
       "      <th>distance_manhattan</th>\n",
       "      <th>direction</th>\n",
       "      <th>center_latitude</th>\n",
       "      <th>center_longitude</th>\n",
       "    </tr>\n",
       "  </thead>\n",
       "  <tbody>\n",
       "    <tr>\n",
       "      <th>246</th>\n",
       "      <td>id3487442</td>\n",
       "      <td>2</td>\n",
       "      <td>2016-02-29 18:39:12</td>\n",
       "      <td>2016-02-29 18:42:59</td>\n",
       "      <td>1</td>\n",
       "      <td>-73.981819</td>\n",
       "      <td>40.768963</td>\n",
       "      <td>-73.981819</td>\n",
       "      <td>40.768963</td>\n",
       "      <td>N</td>\n",
       "      <td>227</td>\n",
       "      <td>2016-02-29</td>\n",
       "      <td>2016-02-29</td>\n",
       "      <td>227.0</td>\n",
       "      <td>5.429346</td>\n",
       "      <td>0.0</td>\n",
       "      <td>0.0</td>\n",
       "      <td>0.0</td>\n",
       "      <td>40.768963</td>\n",
       "      <td>-73.981819</td>\n",
       "    </tr>\n",
       "    <tr>\n",
       "      <th>291</th>\n",
       "      <td>id0924324</td>\n",
       "      <td>2</td>\n",
       "      <td>2016-05-10 18:07:52</td>\n",
       "      <td>2016-05-10 18:26:21</td>\n",
       "      <td>2</td>\n",
       "      <td>-73.959068</td>\n",
       "      <td>40.775661</td>\n",
       "      <td>-73.959068</td>\n",
       "      <td>40.775661</td>\n",
       "      <td>N</td>\n",
       "      <td>1109</td>\n",
       "      <td>2016-05-10</td>\n",
       "      <td>2016-05-10</td>\n",
       "      <td>1109.0</td>\n",
       "      <td>7.012115</td>\n",
       "      <td>0.0</td>\n",
       "      <td>0.0</td>\n",
       "      <td>0.0</td>\n",
       "      <td>40.775661</td>\n",
       "      <td>-73.959068</td>\n",
       "    </tr>\n",
       "    <tr>\n",
       "      <th>407</th>\n",
       "      <td>id1145809</td>\n",
       "      <td>2</td>\n",
       "      <td>2016-05-16 23:15:13</td>\n",
       "      <td>2016-05-16 23:31:00</td>\n",
       "      <td>6</td>\n",
       "      <td>-73.808487</td>\n",
       "      <td>40.687336</td>\n",
       "      <td>-73.808487</td>\n",
       "      <td>40.687336</td>\n",
       "      <td>N</td>\n",
       "      <td>947</td>\n",
       "      <td>2016-05-16</td>\n",
       "      <td>2016-05-16</td>\n",
       "      <td>947.0</td>\n",
       "      <td>6.854355</td>\n",
       "      <td>0.0</td>\n",
       "      <td>0.0</td>\n",
       "      <td>0.0</td>\n",
       "      <td>40.687336</td>\n",
       "      <td>-73.808487</td>\n",
       "    </tr>\n",
       "    <tr>\n",
       "      <th>702</th>\n",
       "      <td>id3499387</td>\n",
       "      <td>1</td>\n",
       "      <td>2016-01-25 19:45:12</td>\n",
       "      <td>2016-01-25 19:54:52</td>\n",
       "      <td>1</td>\n",
       "      <td>-73.786720</td>\n",
       "      <td>40.647041</td>\n",
       "      <td>-73.786720</td>\n",
       "      <td>40.647041</td>\n",
       "      <td>N</td>\n",
       "      <td>580</td>\n",
       "      <td>2016-01-25</td>\n",
       "      <td>2016-01-25</td>\n",
       "      <td>580.0</td>\n",
       "      <td>6.364751</td>\n",
       "      <td>0.0</td>\n",
       "      <td>0.0</td>\n",
       "      <td>0.0</td>\n",
       "      <td>40.647041</td>\n",
       "      <td>-73.786720</td>\n",
       "    </tr>\n",
       "    <tr>\n",
       "      <th>1620</th>\n",
       "      <td>id0753277</td>\n",
       "      <td>1</td>\n",
       "      <td>2016-01-27 22:29:31</td>\n",
       "      <td>2016-01-27 22:29:58</td>\n",
       "      <td>1</td>\n",
       "      <td>-74.209854</td>\n",
       "      <td>40.816853</td>\n",
       "      <td>-74.209854</td>\n",
       "      <td>40.816853</td>\n",
       "      <td>N</td>\n",
       "      <td>27</td>\n",
       "      <td>2016-01-27</td>\n",
       "      <td>2016-01-27</td>\n",
       "      <td>27.0</td>\n",
       "      <td>3.332205</td>\n",
       "      <td>0.0</td>\n",
       "      <td>0.0</td>\n",
       "      <td>0.0</td>\n",
       "      <td>40.816853</td>\n",
       "      <td>-74.209854</td>\n",
       "    </tr>\n",
       "    <tr>\n",
       "      <th>...</th>\n",
       "      <td>...</td>\n",
       "      <td>...</td>\n",
       "      <td>...</td>\n",
       "      <td>...</td>\n",
       "      <td>...</td>\n",
       "      <td>...</td>\n",
       "      <td>...</td>\n",
       "      <td>...</td>\n",
       "      <td>...</td>\n",
       "      <td>...</td>\n",
       "      <td>...</td>\n",
       "      <td>...</td>\n",
       "      <td>...</td>\n",
       "      <td>...</td>\n",
       "      <td>...</td>\n",
       "      <td>...</td>\n",
       "      <td>...</td>\n",
       "      <td>...</td>\n",
       "      <td>...</td>\n",
       "      <td>...</td>\n",
       "    </tr>\n",
       "    <tr>\n",
       "      <th>1456399</th>\n",
       "      <td>id0618137</td>\n",
       "      <td>2</td>\n",
       "      <td>2016-02-17 08:57:04</td>\n",
       "      <td>2016-02-17 09:18:28</td>\n",
       "      <td>1</td>\n",
       "      <td>-73.978859</td>\n",
       "      <td>40.756721</td>\n",
       "      <td>-73.978859</td>\n",
       "      <td>40.756721</td>\n",
       "      <td>N</td>\n",
       "      <td>1284</td>\n",
       "      <td>2016-02-17</td>\n",
       "      <td>2016-02-17</td>\n",
       "      <td>1284.0</td>\n",
       "      <td>7.158514</td>\n",
       "      <td>0.0</td>\n",
       "      <td>0.0</td>\n",
       "      <td>0.0</td>\n",
       "      <td>40.756721</td>\n",
       "      <td>-73.978859</td>\n",
       "    </tr>\n",
       "    <tr>\n",
       "      <th>1456627</th>\n",
       "      <td>id1048767</td>\n",
       "      <td>2</td>\n",
       "      <td>2016-02-06 22:01:40</td>\n",
       "      <td>2016-02-06 22:03:47</td>\n",
       "      <td>1</td>\n",
       "      <td>-73.963554</td>\n",
       "      <td>40.768517</td>\n",
       "      <td>-73.963554</td>\n",
       "      <td>40.768517</td>\n",
       "      <td>N</td>\n",
       "      <td>127</td>\n",
       "      <td>2016-02-06</td>\n",
       "      <td>2016-02-06</td>\n",
       "      <td>127.0</td>\n",
       "      <td>4.852030</td>\n",
       "      <td>0.0</td>\n",
       "      <td>0.0</td>\n",
       "      <td>0.0</td>\n",
       "      <td>40.768517</td>\n",
       "      <td>-73.963554</td>\n",
       "    </tr>\n",
       "    <tr>\n",
       "      <th>1456989</th>\n",
       "      <td>id2595295</td>\n",
       "      <td>2</td>\n",
       "      <td>2016-03-12 07:37:16</td>\n",
       "      <td>2016-03-12 07:46:42</td>\n",
       "      <td>1</td>\n",
       "      <td>-73.984848</td>\n",
       "      <td>40.728222</td>\n",
       "      <td>-73.984848</td>\n",
       "      <td>40.728222</td>\n",
       "      <td>N</td>\n",
       "      <td>566</td>\n",
       "      <td>2016-03-12</td>\n",
       "      <td>2016-03-12</td>\n",
       "      <td>566.0</td>\n",
       "      <td>6.340359</td>\n",
       "      <td>0.0</td>\n",
       "      <td>0.0</td>\n",
       "      <td>0.0</td>\n",
       "      <td>40.728222</td>\n",
       "      <td>-73.984848</td>\n",
       "    </tr>\n",
       "    <tr>\n",
       "      <th>1457114</th>\n",
       "      <td>id0051314</td>\n",
       "      <td>2</td>\n",
       "      <td>2016-04-09 20:34:21</td>\n",
       "      <td>2016-04-09 20:44:53</td>\n",
       "      <td>1</td>\n",
       "      <td>-73.965981</td>\n",
       "      <td>40.770988</td>\n",
       "      <td>-73.965981</td>\n",
       "      <td>40.770988</td>\n",
       "      <td>N</td>\n",
       "      <td>632</td>\n",
       "      <td>2016-04-09</td>\n",
       "      <td>2016-04-09</td>\n",
       "      <td>632.0</td>\n",
       "      <td>6.450470</td>\n",
       "      <td>0.0</td>\n",
       "      <td>0.0</td>\n",
       "      <td>0.0</td>\n",
       "      <td>40.770988</td>\n",
       "      <td>-73.965981</td>\n",
       "    </tr>\n",
       "    <tr>\n",
       "      <th>1457136</th>\n",
       "      <td>id1907784</td>\n",
       "      <td>1</td>\n",
       "      <td>2016-03-25 20:06:52</td>\n",
       "      <td>2016-03-25 20:09:48</td>\n",
       "      <td>1</td>\n",
       "      <td>-73.966705</td>\n",
       "      <td>40.769783</td>\n",
       "      <td>-73.966705</td>\n",
       "      <td>40.769783</td>\n",
       "      <td>N</td>\n",
       "      <td>176</td>\n",
       "      <td>2016-03-25</td>\n",
       "      <td>2016-03-25</td>\n",
       "      <td>176.0</td>\n",
       "      <td>5.176150</td>\n",
       "      <td>0.0</td>\n",
       "      <td>0.0</td>\n",
       "      <td>0.0</td>\n",
       "      <td>40.769783</td>\n",
       "      <td>-73.966705</td>\n",
       "    </tr>\n",
       "  </tbody>\n",
       "</table>\n",
       "<p>5889 rows × 20 columns</p>\n",
       "</div>"
      ],
      "text/plain": [
       "                id  vendor_id     pickup_datetime    dropoff_datetime  \\\n",
       "246      id3487442          2 2016-02-29 18:39:12 2016-02-29 18:42:59   \n",
       "291      id0924324          2 2016-05-10 18:07:52 2016-05-10 18:26:21   \n",
       "407      id1145809          2 2016-05-16 23:15:13 2016-05-16 23:31:00   \n",
       "702      id3499387          1 2016-01-25 19:45:12 2016-01-25 19:54:52   \n",
       "1620     id0753277          1 2016-01-27 22:29:31 2016-01-27 22:29:58   \n",
       "...            ...        ...                 ...                 ...   \n",
       "1456399  id0618137          2 2016-02-17 08:57:04 2016-02-17 09:18:28   \n",
       "1456627  id1048767          2 2016-02-06 22:01:40 2016-02-06 22:03:47   \n",
       "1456989  id2595295          2 2016-03-12 07:37:16 2016-03-12 07:46:42   \n",
       "1457114  id0051314          2 2016-04-09 20:34:21 2016-04-09 20:44:53   \n",
       "1457136  id1907784          1 2016-03-25 20:06:52 2016-03-25 20:09:48   \n",
       "\n",
       "         passenger_count  pickup_longitude  pickup_latitude  \\\n",
       "246                    1        -73.981819        40.768963   \n",
       "291                    2        -73.959068        40.775661   \n",
       "407                    6        -73.808487        40.687336   \n",
       "702                    1        -73.786720        40.647041   \n",
       "1620                   1        -74.209854        40.816853   \n",
       "...                  ...               ...              ...   \n",
       "1456399                1        -73.978859        40.756721   \n",
       "1456627                1        -73.963554        40.768517   \n",
       "1456989                1        -73.984848        40.728222   \n",
       "1457114                1        -73.965981        40.770988   \n",
       "1457136                1        -73.966705        40.769783   \n",
       "\n",
       "         dropoff_longitude  dropoff_latitude store_and_fwd_flag  \\\n",
       "246             -73.981819         40.768963                  N   \n",
       "291             -73.959068         40.775661                  N   \n",
       "407             -73.808487         40.687336                  N   \n",
       "702             -73.786720         40.647041                  N   \n",
       "1620            -74.209854         40.816853                  N   \n",
       "...                    ...               ...                ...   \n",
       "1456399         -73.978859         40.756721                  N   \n",
       "1456627         -73.963554         40.768517                  N   \n",
       "1456989         -73.984848         40.728222                  N   \n",
       "1457114         -73.965981         40.770988                  N   \n",
       "1457136         -73.966705         40.769783                  N   \n",
       "\n",
       "         trip_duration pickup_date dropoff_date  check_trip_duration  \\\n",
       "246                227  2016-02-29   2016-02-29                227.0   \n",
       "291               1109  2016-05-10   2016-05-10               1109.0   \n",
       "407                947  2016-05-16   2016-05-16                947.0   \n",
       "702                580  2016-01-25   2016-01-25                580.0   \n",
       "1620                27  2016-01-27   2016-01-27                 27.0   \n",
       "...                ...         ...          ...                  ...   \n",
       "1456399           1284  2016-02-17   2016-02-17               1284.0   \n",
       "1456627            127  2016-02-06   2016-02-06                127.0   \n",
       "1456989            566  2016-03-12   2016-03-12                566.0   \n",
       "1457114            632  2016-04-09   2016-04-09                632.0   \n",
       "1457136            176  2016-03-25   2016-03-25                176.0   \n",
       "\n",
       "         log_trip_duration  distance_haversine  distance_manhattan  direction  \\\n",
       "246               5.429346                 0.0                 0.0        0.0   \n",
       "291               7.012115                 0.0                 0.0        0.0   \n",
       "407               6.854355                 0.0                 0.0        0.0   \n",
       "702               6.364751                 0.0                 0.0        0.0   \n",
       "1620              3.332205                 0.0                 0.0        0.0   \n",
       "...                    ...                 ...                 ...        ...   \n",
       "1456399           7.158514                 0.0                 0.0        0.0   \n",
       "1456627           4.852030                 0.0                 0.0        0.0   \n",
       "1456989           6.340359                 0.0                 0.0        0.0   \n",
       "1457114           6.450470                 0.0                 0.0        0.0   \n",
       "1457136           5.176150                 0.0                 0.0        0.0   \n",
       "\n",
       "         center_latitude  center_longitude  \n",
       "246            40.768963        -73.981819  \n",
       "291            40.775661        -73.959068  \n",
       "407            40.687336        -73.808487  \n",
       "702            40.647041        -73.786720  \n",
       "1620           40.816853        -74.209854  \n",
       "...                  ...               ...  \n",
       "1456399        40.756721        -73.978859  \n",
       "1456627        40.768517        -73.963554  \n",
       "1456989        40.728222        -73.984848  \n",
       "1457114        40.770988        -73.965981  \n",
       "1457136        40.769783        -73.966705  \n",
       "\n",
       "[5889 rows x 20 columns]"
      ]
     },
     "execution_count": 74,
     "metadata": {},
     "output_type": "execute_result"
    }
   ],
   "source": [
    "df[df['distance_haversine'] == 0]"
   ]
  },
  {
   "cell_type": "code",
   "execution_count": 76,
   "id": "d1a1c18e",
   "metadata": {},
   "outputs": [],
   "source": [
    "df.loc[:, 'pickup_weekday'] = df['pickup_datetime'].dt.weekday\n",
    "# df.loc[:, 'pickup_hour_weekofyear'] = df['pickup_datetime'].dt.weekofyear\n",
    "df.loc[:, 'pickup_hour'] = df['pickup_datetime'].dt.hour\n",
    "df.loc[:, 'pickup_minute'] = df['pickup_datetime'].dt.minute"
   ]
  },
  {
   "cell_type": "code",
   "execution_count": 77,
   "id": "120dba47",
   "metadata": {},
   "outputs": [],
   "source": [
    "df.loc[:, 'pickup_week_hour'] = df['pickup_weekday'] * 24 + df['pickup_hour']"
   ]
  },
  {
   "cell_type": "code",
   "execution_count": 81,
   "id": "a9387d83",
   "metadata": {},
   "outputs": [],
   "source": [
    "df.loc[:, 'avg_speed_h'] = 1000 * df['distance_haversine'] / df['trip_duration']\n",
    "df.loc[:, 'avg_speed_m'] = 1000 * df['distance_manhattan'] / df['trip_duration']"
   ]
  },
  {
   "cell_type": "code",
   "execution_count": 83,
   "id": "7a121085",
   "metadata": {},
   "outputs": [
    {
     "data": {
      "text/html": [
       "<div>\n",
       "<style scoped>\n",
       "    .dataframe tbody tr th:only-of-type {\n",
       "        vertical-align: middle;\n",
       "    }\n",
       "\n",
       "    .dataframe tbody tr th {\n",
       "        vertical-align: top;\n",
       "    }\n",
       "\n",
       "    .dataframe thead th {\n",
       "        text-align: right;\n",
       "    }\n",
       "</style>\n",
       "<table border=\"1\" class=\"dataframe\">\n",
       "  <thead>\n",
       "    <tr style=\"text-align: right;\">\n",
       "      <th></th>\n",
       "      <th>id</th>\n",
       "      <th>vendor_id</th>\n",
       "      <th>pickup_datetime</th>\n",
       "      <th>dropoff_datetime</th>\n",
       "      <th>passenger_count</th>\n",
       "      <th>pickup_longitude</th>\n",
       "      <th>pickup_latitude</th>\n",
       "      <th>dropoff_longitude</th>\n",
       "      <th>dropoff_latitude</th>\n",
       "      <th>store_and_fwd_flag</th>\n",
       "      <th>...</th>\n",
       "      <th>distance_manhattan</th>\n",
       "      <th>direction</th>\n",
       "      <th>center_latitude</th>\n",
       "      <th>center_longitude</th>\n",
       "      <th>pickup_weekday</th>\n",
       "      <th>pickup_hour</th>\n",
       "      <th>pickup_minute</th>\n",
       "      <th>pickup_week_hour</th>\n",
       "      <th>avg_speed_h</th>\n",
       "      <th>avg_speed_m</th>\n",
       "    </tr>\n",
       "  </thead>\n",
       "  <tbody>\n",
       "    <tr>\n",
       "      <th>0</th>\n",
       "      <td>id2875421</td>\n",
       "      <td>2</td>\n",
       "      <td>2016-03-14 17:24:55</td>\n",
       "      <td>2016-03-14 17:32:30</td>\n",
       "      <td>1</td>\n",
       "      <td>-73.982155</td>\n",
       "      <td>40.767937</td>\n",
       "      <td>-73.964630</td>\n",
       "      <td>40.765602</td>\n",
       "      <td>N</td>\n",
       "      <td>...</td>\n",
       "      <td>1.735433</td>\n",
       "      <td>99.970196</td>\n",
       "      <td>40.766769</td>\n",
       "      <td>-73.973392</td>\n",
       "      <td>0</td>\n",
       "      <td>17</td>\n",
       "      <td>24</td>\n",
       "      <td>17</td>\n",
       "      <td>3.293452</td>\n",
       "      <td>3.814139</td>\n",
       "    </tr>\n",
       "    <tr>\n",
       "      <th>1</th>\n",
       "      <td>id2377394</td>\n",
       "      <td>1</td>\n",
       "      <td>2016-06-12 00:43:35</td>\n",
       "      <td>2016-06-12 00:54:38</td>\n",
       "      <td>1</td>\n",
       "      <td>-73.980415</td>\n",
       "      <td>40.738564</td>\n",
       "      <td>-73.999481</td>\n",
       "      <td>40.731152</td>\n",
       "      <td>N</td>\n",
       "      <td>...</td>\n",
       "      <td>2.430506</td>\n",
       "      <td>-117.153768</td>\n",
       "      <td>40.734858</td>\n",
       "      <td>-73.989948</td>\n",
       "      <td>6</td>\n",
       "      <td>0</td>\n",
       "      <td>43</td>\n",
       "      <td>144</td>\n",
       "      <td>2.723239</td>\n",
       "      <td>3.665922</td>\n",
       "    </tr>\n",
       "    <tr>\n",
       "      <th>2</th>\n",
       "      <td>id3858529</td>\n",
       "      <td>2</td>\n",
       "      <td>2016-01-19 11:35:24</td>\n",
       "      <td>2016-01-19 12:10:48</td>\n",
       "      <td>1</td>\n",
       "      <td>-73.979027</td>\n",
       "      <td>40.763939</td>\n",
       "      <td>-74.005333</td>\n",
       "      <td>40.710087</td>\n",
       "      <td>N</td>\n",
       "      <td>...</td>\n",
       "      <td>8.203575</td>\n",
       "      <td>-159.680165</td>\n",
       "      <td>40.737013</td>\n",
       "      <td>-73.992180</td>\n",
       "      <td>1</td>\n",
       "      <td>11</td>\n",
       "      <td>35</td>\n",
       "      <td>35</td>\n",
       "      <td>3.006167</td>\n",
       "      <td>3.862323</td>\n",
       "    </tr>\n",
       "    <tr>\n",
       "      <th>3</th>\n",
       "      <td>id3504673</td>\n",
       "      <td>2</td>\n",
       "      <td>2016-04-06 19:32:31</td>\n",
       "      <td>2016-04-06 19:39:40</td>\n",
       "      <td>1</td>\n",
       "      <td>-74.010040</td>\n",
       "      <td>40.719971</td>\n",
       "      <td>-74.012268</td>\n",
       "      <td>40.706718</td>\n",
       "      <td>N</td>\n",
       "      <td>...</td>\n",
       "      <td>1.661331</td>\n",
       "      <td>-172.737700</td>\n",
       "      <td>40.713345</td>\n",
       "      <td>-74.011154</td>\n",
       "      <td>2</td>\n",
       "      <td>19</td>\n",
       "      <td>32</td>\n",
       "      <td>67</td>\n",
       "      <td>3.462700</td>\n",
       "      <td>3.872567</td>\n",
       "    </tr>\n",
       "    <tr>\n",
       "      <th>4</th>\n",
       "      <td>id2181028</td>\n",
       "      <td>2</td>\n",
       "      <td>2016-03-26 13:30:55</td>\n",
       "      <td>2016-03-26 13:38:10</td>\n",
       "      <td>1</td>\n",
       "      <td>-73.973053</td>\n",
       "      <td>40.793209</td>\n",
       "      <td>-73.972923</td>\n",
       "      <td>40.782520</td>\n",
       "      <td>N</td>\n",
       "      <td>...</td>\n",
       "      <td>1.199457</td>\n",
       "      <td>179.473585</td>\n",
       "      <td>40.787865</td>\n",
       "      <td>-73.972988</td>\n",
       "      <td>5</td>\n",
       "      <td>13</td>\n",
       "      <td>30</td>\n",
       "      <td>133</td>\n",
       "      <td>2.732387</td>\n",
       "      <td>2.757372</td>\n",
       "    </tr>\n",
       "  </tbody>\n",
       "</table>\n",
       "<p>5 rows × 26 columns</p>\n",
       "</div>"
      ],
      "text/plain": [
       "          id  vendor_id     pickup_datetime    dropoff_datetime  \\\n",
       "0  id2875421          2 2016-03-14 17:24:55 2016-03-14 17:32:30   \n",
       "1  id2377394          1 2016-06-12 00:43:35 2016-06-12 00:54:38   \n",
       "2  id3858529          2 2016-01-19 11:35:24 2016-01-19 12:10:48   \n",
       "3  id3504673          2 2016-04-06 19:32:31 2016-04-06 19:39:40   \n",
       "4  id2181028          2 2016-03-26 13:30:55 2016-03-26 13:38:10   \n",
       "\n",
       "   passenger_count  pickup_longitude  pickup_latitude  dropoff_longitude  \\\n",
       "0                1        -73.982155        40.767937         -73.964630   \n",
       "1                1        -73.980415        40.738564         -73.999481   \n",
       "2                1        -73.979027        40.763939         -74.005333   \n",
       "3                1        -74.010040        40.719971         -74.012268   \n",
       "4                1        -73.973053        40.793209         -73.972923   \n",
       "\n",
       "   dropoff_latitude store_and_fwd_flag  ...  distance_manhattan   direction  \\\n",
       "0         40.765602                  N  ...            1.735433   99.970196   \n",
       "1         40.731152                  N  ...            2.430506 -117.153768   \n",
       "2         40.710087                  N  ...            8.203575 -159.680165   \n",
       "3         40.706718                  N  ...            1.661331 -172.737700   \n",
       "4         40.782520                  N  ...            1.199457  179.473585   \n",
       "\n",
       "  center_latitude  center_longitude  pickup_weekday  pickup_hour  \\\n",
       "0       40.766769        -73.973392               0           17   \n",
       "1       40.734858        -73.989948               6            0   \n",
       "2       40.737013        -73.992180               1           11   \n",
       "3       40.713345        -74.011154               2           19   \n",
       "4       40.787865        -73.972988               5           13   \n",
       "\n",
       "   pickup_minute  pickup_week_hour  avg_speed_h  avg_speed_m  \n",
       "0             24                17     3.293452     3.814139  \n",
       "1             43               144     2.723239     3.665922  \n",
       "2             35                35     3.006167     3.862323  \n",
       "3             32                67     3.462700     3.872567  \n",
       "4             30               133     2.732387     2.757372  \n",
       "\n",
       "[5 rows x 26 columns]"
      ]
     },
     "execution_count": 83,
     "metadata": {},
     "output_type": "execute_result"
    }
   ],
   "source": [
    "df.head()"
   ]
  },
  {
   "cell_type": "code",
   "execution_count": 84,
   "id": "10a488f4",
   "metadata": {},
   "outputs": [
    {
     "name": "stdout",
     "output_type": "stream",
     "text": [
      "<class 'pandas.core.frame.DataFrame'>\n",
      "Index: 1458584 entries, 0 to 1458643\n",
      "Data columns (total 26 columns):\n",
      " #   Column               Non-Null Count    Dtype         \n",
      "---  ------               --------------    -----         \n",
      " 0   id                   1458584 non-null  object        \n",
      " 1   vendor_id            1458584 non-null  int64         \n",
      " 2   pickup_datetime      1458584 non-null  datetime64[ns]\n",
      " 3   dropoff_datetime     1458584 non-null  datetime64[ns]\n",
      " 4   passenger_count      1458584 non-null  int64         \n",
      " 5   pickup_longitude     1458584 non-null  float64       \n",
      " 6   pickup_latitude      1458584 non-null  float64       \n",
      " 7   dropoff_longitude    1458584 non-null  float64       \n",
      " 8   dropoff_latitude     1458584 non-null  float64       \n",
      " 9   store_and_fwd_flag   1458584 non-null  object        \n",
      " 10  trip_duration        1458584 non-null  int64         \n",
      " 11  pickup_date          1458584 non-null  object        \n",
      " 12  dropoff_date         1458584 non-null  object        \n",
      " 13  check_trip_duration  1458584 non-null  float64       \n",
      " 14  log_trip_duration    1458584 non-null  float64       \n",
      " 15  distance_haversine   1458584 non-null  float64       \n",
      " 16  distance_manhattan   1458584 non-null  float64       \n",
      " 17  direction            1458584 non-null  float64       \n",
      " 18  center_latitude      1458584 non-null  float64       \n",
      " 19  center_longitude     1458584 non-null  float64       \n",
      " 20  pickup_weekday       1458584 non-null  int32         \n",
      " 21  pickup_hour          1458584 non-null  int32         \n",
      " 22  pickup_minute        1458584 non-null  int32         \n",
      " 23  pickup_week_hour     1458584 non-null  int32         \n",
      " 24  avg_speed_h          1458584 non-null  float64       \n",
      " 25  avg_speed_m          1458584 non-null  float64       \n",
      "dtypes: datetime64[ns](2), float64(13), int32(4), int64(3), object(4)\n",
      "memory usage: 278.2+ MB\n"
     ]
    }
   ],
   "source": [
    "df.info()"
   ]
  },
  {
   "cell_type": "code",
   "execution_count": 86,
   "id": "a3ed3fee",
   "metadata": {},
   "outputs": [
    {
     "data": {
      "image/png": "[encoded data removed]",
      "text/plain": [
       "<Figure size 640x480 with 3 Axes>"
      ]
     },
     "metadata": {},
     "output_type": "display_data"
    }
   ],
   "source": [
    "fig, ax = plt.subplots(ncols=3, sharey=True)\n",
    "ax[0].plot(df.groupby('pickup_hour')['avg_speed_h'].mean(), 'bo-', lw=2, alpha=0.7)\n",
    "ax[1].plot(df.groupby('pickup_weekday')['avg_speed_h'].mean(), 'go-', lw=2, alpha=0.7)\n",
    "ax[2].plot(df.groupby('pickup_week_hour')['avg_speed_h'].mean(), 'ro-', lw=2, alpha=0.7)\n",
    "ax[0].set_xlabel('hour')\n",
    "ax[1].set_xlabel('weekday')\n",
    "ax[2].set_xlabel('weekhour')\n",
    "ax[0].set_ylabel('average speed')\n",
    "fig.suptitle('average traffic speed')\n",
    "plt.show()"
   ]
  },
  {
   "cell_type": "code",
   "execution_count": 87,
   "id": "805633d3",
   "metadata": {},
   "outputs": [
    {
     "data": {
      "text/plain": [
       "array([17,  0, 11, 19, 13, 22,  7, 23, 21,  9, 20, 15,  8,  2, 12,  3, 10,\n",
       "       14, 16,  1, 18,  6,  5,  4])"
      ]
     },
     "execution_count": 87,
     "metadata": {},
     "output_type": "execute_result"
    }
   ],
   "source": [
    "df.pickup_hour.unique()"
   ]
  },
  {
   "cell_type": "code",
   "execution_count": 88,
   "id": "4542e226",
   "metadata": {},
   "outputs": [
    {
     "data": {
      "text/plain": [
       "Text(0, 0.5, 'No of Trips made')"
      ]
     },
     "execution_count": 88,
     "metadata": {},
     "output_type": "execute_result"
    },
    {
     "data": {
      "image/png": "[encoded data removed]",
      "text/plain": [
       "<Figure size 1200x200 with 1 Axes>"
      ]
     },
     "metadata": {},
     "output_type": "display_data"
    }
   ],
   "source": [
    "plt.figure(figsize=(12,2))\n",
    "\n",
    "data = df.groupby('pickup_hour').aggregate({'id':'count'}).reset_index()\n",
    "sns.barplot(x='pickup_hour', y='id', data=data)\n",
    "\n",
    "plt.title('Pick-ups Hour Distribution')\n",
    "plt.xlabel('Hour of Day, 0-23')\n",
    "plt.ylabel('No of Trips made')"
   ]
  },
  {
   "cell_type": "code",
   "execution_count": null,
   "id": "068e867f",
   "metadata": {},
   "outputs": [],
   "source": []
  }
 ],
 "metadata": {
  "kernelspec": {
   "display_name": "Python 3 (ipykernel)",
   "language": "python",
   "name": "python3"
  },
  "language_info": {
   "codemirror_mode": {
    "name": "ipython",
    "version": 3
   },
   "file_extension": ".py",
   "mimetype": "text/x-python",
   "name": "python",
   "nbconvert_exporter": "python",
   "pygments_lexer": "ipython3",
   "version": "3.11.3"
  }
 },
 "nbformat": 4,
 "nbformat_minor": 5
}
